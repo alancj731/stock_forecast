{
 "cells": [
  {
   "cell_type": "code",
   "execution_count": 258,
   "metadata": {},
   "outputs": [],
   "source": [
    "import pandas as pd\n",
    "import numpy as np\n",
    "import tensorflow as tf\n",
    "import matplotlib.pyplot as plt\n",
    "\n",
    "from pandas_datareader import data as pdr\n",
    "from datetime import datetime\n",
    "import yfinance as yfin\n",
    "yfin.pdr_override()"
   ]
  },
  {
   "cell_type": "code",
   "execution_count": 216,
   "metadata": {},
   "outputs": [],
   "source": [
    "def fetch_data(symbols, start_str, end_str):\n",
    "    result = []\n",
    "    # set date string format\n",
    "    date_format = \"%Y-%m-%d\"\n",
    "    # get start time and end time\n",
    "    start_date = datetime.strptime(start_str, date_format)\n",
    "    end_date = datetime.strptime(end_str, date_format)\n",
    "    for symbol in symbols:\n",
    "        print(f'Now fetching {symbol} data from Yahoo...')\n",
    "        # get data from Yahoo finance\n",
    "        data = pdr.get_data_yahoo(symbol, start = start_date, end = end_date)\n",
    "        print(f'{symbol} data fetched successfully.')\n",
    "        # add data to result\n",
    "        result.append(data)\n",
    "    return result"
   ]
  },
  {
   "cell_type": "code",
   "execution_count": 217,
   "metadata": {},
   "outputs": [
    {
     "name": "stdout",
     "output_type": "stream",
     "text": [
      "Now fetching AMZN data from Yahoo...\n",
      "[*********************100%%**********************]  1 of 1 completed\n",
      "AMZN data fetched successfully.\n"
     ]
    }
   ],
   "source": [
    "symbols = ['AMZN']\n",
    "start = \"2000-01-01\"\n",
    "end = \"2023-12-01\"\n",
    "\n",
    "result = fetch_data(symbols, start, end)"
   ]
  },
  {
   "cell_type": "code",
   "execution_count": 218,
   "metadata": {},
   "outputs": [
    {
     "data": {
      "text/html": [
       "<div>\n",
       "<style scoped>\n",
       "    .dataframe tbody tr th:only-of-type {\n",
       "        vertical-align: middle;\n",
       "    }\n",
       "\n",
       "    .dataframe tbody tr th {\n",
       "        vertical-align: top;\n",
       "    }\n",
       "\n",
       "    .dataframe thead th {\n",
       "        text-align: right;\n",
       "    }\n",
       "</style>\n",
       "<table border=\"1\" class=\"dataframe\">\n",
       "  <thead>\n",
       "    <tr style=\"text-align: right;\">\n",
       "      <th></th>\n",
       "      <th>Open</th>\n",
       "      <th>High</th>\n",
       "      <th>Low</th>\n",
       "      <th>Close</th>\n",
       "      <th>Adj Close</th>\n",
       "      <th>Volume</th>\n",
       "    </tr>\n",
       "    <tr>\n",
       "      <th>Date</th>\n",
       "      <th></th>\n",
       "      <th></th>\n",
       "      <th></th>\n",
       "      <th></th>\n",
       "      <th></th>\n",
       "      <th></th>\n",
       "    </tr>\n",
       "  </thead>\n",
       "  <tbody>\n",
       "    <tr>\n",
       "      <th>2000-01-03</th>\n",
       "      <td>4.075000</td>\n",
       "      <td>4.478125</td>\n",
       "      <td>3.952344</td>\n",
       "      <td>4.468750</td>\n",
       "      <td>4.468750</td>\n",
       "      <td>322352000</td>\n",
       "    </tr>\n",
       "    <tr>\n",
       "      <th>2000-01-04</th>\n",
       "      <td>4.268750</td>\n",
       "      <td>4.575000</td>\n",
       "      <td>4.087500</td>\n",
       "      <td>4.096875</td>\n",
       "      <td>4.096875</td>\n",
       "      <td>349748000</td>\n",
       "    </tr>\n",
       "    <tr>\n",
       "      <th>2000-01-05</th>\n",
       "      <td>3.525000</td>\n",
       "      <td>3.756250</td>\n",
       "      <td>3.400000</td>\n",
       "      <td>3.487500</td>\n",
       "      <td>3.487500</td>\n",
       "      <td>769148000</td>\n",
       "    </tr>\n",
       "    <tr>\n",
       "      <th>2000-01-06</th>\n",
       "      <td>3.565625</td>\n",
       "      <td>3.634375</td>\n",
       "      <td>3.200000</td>\n",
       "      <td>3.278125</td>\n",
       "      <td>3.278125</td>\n",
       "      <td>375040000</td>\n",
       "    </tr>\n",
       "    <tr>\n",
       "      <th>2000-01-07</th>\n",
       "      <td>3.350000</td>\n",
       "      <td>3.525000</td>\n",
       "      <td>3.309375</td>\n",
       "      <td>3.478125</td>\n",
       "      <td>3.478125</td>\n",
       "      <td>210108000</td>\n",
       "    </tr>\n",
       "  </tbody>\n",
       "</table>\n",
       "</div>"
      ],
      "text/plain": [
       "                Open      High       Low     Close  Adj Close     Volume\n",
       "Date                                                                    \n",
       "2000-01-03  4.075000  4.478125  3.952344  4.468750   4.468750  322352000\n",
       "2000-01-04  4.268750  4.575000  4.087500  4.096875   4.096875  349748000\n",
       "2000-01-05  3.525000  3.756250  3.400000  3.487500   3.487500  769148000\n",
       "2000-01-06  3.565625  3.634375  3.200000  3.278125   3.278125  375040000\n",
       "2000-01-07  3.350000  3.525000  3.309375  3.478125   3.478125  210108000"
      ]
     },
     "execution_count": 218,
     "metadata": {},
     "output_type": "execute_result"
    }
   ],
   "source": [
    "AMZN = result[0]\n",
    "AMZN.head()"
   ]
  },
  {
   "cell_type": "code",
   "execution_count": 219,
   "metadata": {},
   "outputs": [],
   "source": [
    "X_AMZN = AMZN.values"
   ]
  },
  {
   "cell_type": "code",
   "execution_count": 220,
   "metadata": {},
   "outputs": [],
   "source": [
    "from sklearn.preprocessing import MinMaxScaler"
   ]
  },
  {
   "cell_type": "code",
   "execution_count": 221,
   "metadata": {},
   "outputs": [],
   "source": [
    "def scale_df(df):\n",
    "    scalers = []\n",
    "    new_df = df.copy()\n",
    "    for feature in new_df.columns:\n",
    "        scaler = MinMaxScaler()\n",
    "        new_df[feature] = scaler.fit_transform(new_df[feature].values.reshape(-1,1))\n",
    "        scalers.append(scaler)\n",
    "    return new_df, scalers"
   ]
  },
  {
   "cell_type": "code",
   "execution_count": 222,
   "metadata": {},
   "outputs": [
    {
     "data": {
      "text/plain": [
       "(6017, 1)"
      ]
     },
     "execution_count": 222,
     "metadata": {},
     "output_type": "execute_result"
    }
   ],
   "source": [
    "AMZN['Close'].values.reshape(-1,1).shape"
   ]
  },
  {
   "cell_type": "code",
   "execution_count": 223,
   "metadata": {},
   "outputs": [
    {
     "data": {
      "text/html": [
       "<div>\n",
       "<style scoped>\n",
       "    .dataframe tbody tr th:only-of-type {\n",
       "        vertical-align: middle;\n",
       "    }\n",
       "\n",
       "    .dataframe tbody tr th {\n",
       "        vertical-align: top;\n",
       "    }\n",
       "\n",
       "    .dataframe thead th {\n",
       "        text-align: right;\n",
       "    }\n",
       "</style>\n",
       "<table border=\"1\" class=\"dataframe\">\n",
       "  <thead>\n",
       "    <tr style=\"text-align: right;\">\n",
       "      <th></th>\n",
       "      <th>Open</th>\n",
       "      <th>High</th>\n",
       "      <th>Low</th>\n",
       "      <th>Close</th>\n",
       "      <th>Adj Close</th>\n",
       "      <th>Volume</th>\n",
       "    </tr>\n",
       "    <tr>\n",
       "      <th>Date</th>\n",
       "      <th></th>\n",
       "      <th></th>\n",
       "      <th></th>\n",
       "      <th></th>\n",
       "      <th></th>\n",
       "      <th></th>\n",
       "    </tr>\n",
       "  </thead>\n",
       "  <tbody>\n",
       "    <tr>\n",
       "      <th>2000-01-03</th>\n",
       "      <td>0.020222</td>\n",
       "      <td>0.022156</td>\n",
       "      <td>0.019922</td>\n",
       "      <td>0.022388</td>\n",
       "      <td>0.022388</td>\n",
       "      <td>0.147285</td>\n",
       "    </tr>\n",
       "    <tr>\n",
       "      <th>2000-01-04</th>\n",
       "      <td>0.021258</td>\n",
       "      <td>0.022671</td>\n",
       "      <td>0.020654</td>\n",
       "      <td>0.020392</td>\n",
       "      <td>0.020392</td>\n",
       "      <td>0.160526</td>\n",
       "    </tr>\n",
       "    <tr>\n",
       "      <th>2000-01-05</th>\n",
       "      <td>0.017279</td>\n",
       "      <td>0.018324</td>\n",
       "      <td>0.016929</td>\n",
       "      <td>0.017120</td>\n",
       "      <td>0.017120</td>\n",
       "      <td>0.363237</td>\n",
       "    </tr>\n",
       "    <tr>\n",
       "      <th>2000-01-06</th>\n",
       "      <td>0.017496</td>\n",
       "      <td>0.017677</td>\n",
       "      <td>0.015845</td>\n",
       "      <td>0.015996</td>\n",
       "      <td>0.015996</td>\n",
       "      <td>0.172751</td>\n",
       "    </tr>\n",
       "    <tr>\n",
       "      <th>2000-01-07</th>\n",
       "      <td>0.016343</td>\n",
       "      <td>0.017096</td>\n",
       "      <td>0.016438</td>\n",
       "      <td>0.017070</td>\n",
       "      <td>0.017070</td>\n",
       "      <td>0.093033</td>\n",
       "    </tr>\n",
       "  </tbody>\n",
       "</table>\n",
       "</div>"
      ],
      "text/plain": [
       "                Open      High       Low     Close  Adj Close    Volume\n",
       "Date                                                                   \n",
       "2000-01-03  0.020222  0.022156  0.019922  0.022388   0.022388  0.147285\n",
       "2000-01-04  0.021258  0.022671  0.020654  0.020392   0.020392  0.160526\n",
       "2000-01-05  0.017279  0.018324  0.016929  0.017120   0.017120  0.363237\n",
       "2000-01-06  0.017496  0.017677  0.015845  0.015996   0.015996  0.172751\n",
       "2000-01-07  0.016343  0.017096  0.016438  0.017070   0.017070  0.093033"
      ]
     },
     "execution_count": 223,
     "metadata": {},
     "output_type": "execute_result"
    }
   ],
   "source": [
    "AMZN_SCALED,  scalers = scale_df(AMZN) # scalers[4] will be used later to rescale the predict price from the model\n",
    "AMZN_SCALED.head()"
   ]
  },
  {
   "cell_type": "code",
   "execution_count": 224,
   "metadata": {},
   "outputs": [],
   "source": [
    "# predict target is \"Adj Close\" price\n",
    "Y_RAW = AMZN[[\"Adj Close\"]].values\n",
    "Y_SCALED = AMZN_SCALED[[\"Adj Close\"]].values\n",
    "X_ONE_FEATURE = AMZN_SCALED[[\"Adj Close\"]].values.reshape(-1,1)\n",
    "# Combine Open, High, Low, Close, Volumn in to a feature with 5 dimensions\n",
    "X = AMZN_SCALED[['Open', 'High', 'Low', 'Adj Close', 'Volume']].values\n",
    "X_ALL_FEATURES = X.reshape(-1,5)\n"
   ]
  },
  {
   "cell_type": "code",
   "execution_count": 225,
   "metadata": {},
   "outputs": [],
   "source": [
    "# use look_back days price to do the forecast\n",
    "look_back = 20\n",
    "# forecast next 10 days price\n",
    "next_days = 2"
   ]
  },
  {
   "cell_type": "code",
   "execution_count": 226,
   "metadata": {},
   "outputs": [],
   "source": [
    "def get_shifted_y(arr, look_back = look_back, next_days = next_days):\n",
    "    # for example, if we want to use today's price to predict next one day price\n",
    "    # then look_back = 1, next_days = 1, so the first row of shifted data (in ascending date)\n",
    "    # should be the second row of original data, means the shifted data shoulbe be arr[1:]\n",
    "  return arr[look_back + next_days - 1:]\n",
    "\n",
    "def get_shifted_x(arr, look_back = look_back, next_days = next_days):\n",
    "   # the total length of new x should be original length - (look_back + next_days - 1)\n",
    "   # for example, if we want to use today's data to predict next one day's price,\n",
    "   # the length of new x should be oritinal length - (1 + 1 -1) \n",
    "   new_len = len(arr) - (look_back + next_days - 1)\n",
    "   # we need to get a list of history price with length = look_back to forcast the next_days price\n",
    "   # the first column of the history price should be start at first row of original data and\n",
    "   # end at new_len - 1\n",
    "   all_columns = []\n",
    "   for i in range(look_back):\n",
    "       current_column = arr[i:i+new_len]\n",
    "       all_columns.append(current_column)\n",
    "   new_x = np.stack(all_columns, axis = 1)\n",
    "   return new_x"
   ]
  },
  {
   "cell_type": "code",
   "execution_count": 227,
   "metadata": {},
   "outputs": [
    {
     "data": {
      "text/plain": [
       "((5996, 20, 1), (5996, 20, 5), (5996, 1), (5996, 1))"
      ]
     },
     "execution_count": 227,
     "metadata": {},
     "output_type": "execute_result"
    }
   ],
   "source": [
    "X_ONE = get_shifted_x(X_ONE_FEATURE)\n",
    "X_ALL = get_shifted_x(X_ALL_FEATURES)\n",
    "Y = get_shifted_y(Y_SCALED)\n",
    "Y_SR = get_shifted_y(Y_RAW) # shifted Y_RAW\n",
    "# size of shifted data\n",
    "X_ONE.shape, X_ALL.shape, Y.shape, Y_SR.shape"
   ]
  },
  {
   "cell_type": "code",
   "execution_count": 244,
   "metadata": {},
   "outputs": [],
   "source": [
    "def get_train_val(x, y, y_raw):\n",
    "  # get data size\n",
    "  data_size = len(x)\n",
    "  # split the data into training and validation\n",
    "  split = data_size - 200 # only use recent 200 price for validation\n",
    "  Xtrain = tf.convert_to_tensor(x[:split], dtype=tf.float32)\n",
    "  ytrain = tf.convert_to_tensor(y[:split], dtype=tf.float32)\n",
    "  Xval = tf.convert_to_tensor(x[split:], dtype=tf.float32)\n",
    "  yval = tf.convert_to_tensor(y[split:], dtype=tf.float32)\n",
    "  \n",
    "  return Xtrain, ytrain, Xval, yval, y_raw[split:]"
   ]
  },
  {
   "cell_type": "code",
   "execution_count": 245,
   "metadata": {},
   "outputs": [
    {
     "data": {
      "text/plain": [
       "(TensorShape([5796, 20, 1]),\n",
       " TensorShape([5796, 1]),\n",
       " TensorShape([200, 20, 1]),\n",
       " TensorShape([200, 1]),\n",
       " (200, 1))"
      ]
     },
     "execution_count": 245,
     "metadata": {},
     "output_type": "execute_result"
    }
   ],
   "source": [
    "# train model using X_ONE\n",
    "Xtrain, ytrain, Xval, yval, Y_SR_VAL = get_train_val(X_ONE, Y, Y_SR)\n",
    "Xtrain.shape, ytrain.shape, Xval.shape, yval.shape, Y_SR_VAL.shape"
   ]
  },
  {
   "cell_type": "code",
   "execution_count": 246,
   "metadata": {},
   "outputs": [],
   "source": [
    "from keras.models import Sequential\n",
    "from keras.layers import GRU, SimpleRNN, LSTM, Activation, Dropout, Dense, Reshape, Conv1D, Conv2D, Flatten, MaxPooling2D\n",
    "from sklearn.metrics import mean_squared_error"
   ]
  },
  {
   "cell_type": "code",
   "execution_count": 247,
   "metadata": {},
   "outputs": [
    {
     "name": "stdout",
     "output_type": "stream",
     "text": [
      "Model: \"sequential_15\"\n",
      "_________________________________________________________________\n",
      " Layer (type)                Output Shape              Param #   \n",
      "=================================================================\n",
      " gru_14 (GRU)                (None, 128)               50304     \n",
      "                                                                 \n",
      " dropout_34 (Dropout)        (None, 128)               0         \n",
      "                                                                 \n",
      " dense_29 (Dense)            (None, 128)               16512     \n",
      "                                                                 \n",
      " dropout_35 (Dropout)        (None, 128)               0         \n",
      "                                                                 \n",
      " dense_30 (Dense)            (None, 1)                 129       \n",
      "                                                                 \n",
      "=================================================================\n",
      "Total params: 66945 (261.50 KB)\n",
      "Trainable params: 66945 (261.50 KB)\n",
      "Non-trainable params: 0 (0.00 Byte)\n",
      "_________________________________________________________________\n"
     ]
    }
   ],
   "source": [
    "model_one = Sequential()\n",
    "# model_one.add(GRU(128, input_shape=(20, 1)))\n",
    "model_one.add(GRU(128, input_shape=(20, 1), return_sequences=False))\n",
    "model_one.add(Dropout(0.25))\n",
    "# model_one.add(GRU(128, return_sequences=False))\n",
    "# model_one.add(Dropout(0.25))\n",
    "model_one.add(Dense(128, activation='relu'))\n",
    "model_one.add(Dropout(0.25))\n",
    "model_one.add(Dense(1, activation='linear'))\n",
    "model_one.compile(loss='mean_squared_error', optimizer='adam')\n",
    "model_one.summary()"
   ]
  },
  {
   "cell_type": "code",
   "execution_count": 248,
   "metadata": {},
   "outputs": [
    {
     "name": "stdout",
     "output_type": "stream",
     "text": [
      "Epoch 1/30\n",
      "182/182 - 6s - loss: 0.0048 - 6s/epoch - 34ms/step\n",
      "Epoch 2/30\n",
      "182/182 - 2s - loss: 0.0014 - 2s/epoch - 13ms/step\n",
      "Epoch 3/30\n",
      "182/182 - 2s - loss: 0.0012 - 2s/epoch - 13ms/step\n",
      "Epoch 4/30\n",
      "182/182 - 3s - loss: 0.0012 - 3s/epoch - 14ms/step\n",
      "Epoch 5/30\n",
      "182/182 - 2s - loss: 0.0011 - 2s/epoch - 14ms/step\n",
      "Epoch 6/30\n",
      "182/182 - 2s - loss: 0.0011 - 2s/epoch - 13ms/step\n",
      "Epoch 7/30\n",
      "182/182 - 2s - loss: 0.0011 - 2s/epoch - 13ms/step\n",
      "Epoch 8/30\n",
      "182/182 - 2s - loss: 0.0010 - 2s/epoch - 13ms/step\n",
      "Epoch 9/30\n",
      "182/182 - 2s - loss: 9.3465e-04 - 2s/epoch - 13ms/step\n",
      "Epoch 10/30\n",
      "182/182 - 2s - loss: 9.1704e-04 - 2s/epoch - 13ms/step\n",
      "Epoch 11/30\n",
      "182/182 - 2s - loss: 9.5857e-04 - 2s/epoch - 13ms/step\n",
      "Epoch 12/30\n",
      "182/182 - 2s - loss: 9.3885e-04 - 2s/epoch - 13ms/step\n",
      "Epoch 13/30\n",
      "182/182 - 3s - loss: 8.6767e-04 - 3s/epoch - 14ms/step\n",
      "Epoch 14/30\n",
      "182/182 - 2s - loss: 8.4838e-04 - 2s/epoch - 13ms/step\n",
      "Epoch 15/30\n",
      "182/182 - 2s - loss: 9.5033e-04 - 2s/epoch - 13ms/step\n",
      "Epoch 16/30\n",
      "182/182 - 2s - loss: 8.7902e-04 - 2s/epoch - 14ms/step\n",
      "Epoch 17/30\n",
      "182/182 - 2s - loss: 8.8227e-04 - 2s/epoch - 13ms/step\n",
      "Epoch 18/30\n",
      "182/182 - 2s - loss: 8.4223e-04 - 2s/epoch - 13ms/step\n",
      "Epoch 19/30\n",
      "182/182 - 2s - loss: 9.1288e-04 - 2s/epoch - 13ms/step\n",
      "Epoch 20/30\n",
      "182/182 - 2s - loss: 8.2760e-04 - 2s/epoch - 13ms/step\n",
      "Epoch 21/30\n",
      "182/182 - 2s - loss: 7.9885e-04 - 2s/epoch - 13ms/step\n",
      "Epoch 22/30\n",
      "182/182 - 2s - loss: 7.7494e-04 - 2s/epoch - 13ms/step\n",
      "Epoch 23/30\n",
      "182/182 - 2s - loss: 8.6382e-04 - 2s/epoch - 13ms/step\n",
      "Epoch 24/30\n",
      "182/182 - 2s - loss: 9.1963e-04 - 2s/epoch - 13ms/step\n",
      "Epoch 25/30\n",
      "182/182 - 2s - loss: 8.0746e-04 - 2s/epoch - 13ms/step\n",
      "Epoch 26/30\n",
      "182/182 - 2s - loss: 8.1212e-04 - 2s/epoch - 13ms/step\n",
      "Epoch 27/30\n",
      "182/182 - 2s - loss: 7.7910e-04 - 2s/epoch - 13ms/step\n",
      "Epoch 28/30\n",
      "182/182 - 2s - loss: 8.0593e-04 - 2s/epoch - 13ms/step\n",
      "Epoch 29/30\n",
      "182/182 - 2s - loss: 8.1679e-04 - 2s/epoch - 14ms/step\n",
      "Epoch 30/30\n",
      "182/182 - 2s - loss: 7.0986e-04 - 2s/epoch - 13ms/step\n"
     ]
    }
   ],
   "source": [
    "# define a helper function\n",
    "def train_model(model, X, y, epochs = 30, batch_size = 32, verbose = 2):\n",
    "  model.fit(X, y, epochs=epochs, batch_size=batch_size, verbose=verbose, validation_split=0)\n",
    "train_model(model_one, Xtrain, ytrain)"
   ]
  },
  {
   "cell_type": "code",
   "execution_count": 256,
   "metadata": {},
   "outputs": [],
   "source": [
    "def predict(model, X, scaler = scalers[4]):\n",
    "  if scaler == None:\n",
    "    return model.predict(X)\n",
    "  return scaler.inverse_transform(model.predict(X))\n",
    "\n",
    "# create a evaluation function\n",
    "def get_model_perf(model, X, y = Y_SR_VAL, scaler = scalers[4]):\n",
    "  pred = predict(model, X, scaler=scaler)\n",
    "  rmse = np.sqrt(np.mean((pred - y)**2))\n",
    "  print('RMSE: %.3f\\n' % (rmse))\n",
    "  relative_err = np.mean(np.abs( (pred-y)/y ) )\n",
    "  print(f'Relative Error: {relative_err*100:.2f}%')\n",
    "  return pred, rmse, relative_err"
   ]
  },
  {
   "cell_type": "code",
   "execution_count": 265,
   "metadata": {},
   "outputs": [
    {
     "name": "stdout",
     "output_type": "stream",
     "text": [
      "7/7 [==============================] - 0s 7ms/step\n",
      "RMSE: 3.368\n",
      "\n",
      "Relative Error: 2.13%\n"
     ]
    }
   ],
   "source": [
    "# show RMSE and relative error value on validation data\n",
    "pred_one, RMSE, REL_ERR = get_model_perf(model_one, Xval)"
   ]
  },
  {
   "cell_type": "code",
   "execution_count": 263,
   "metadata": {},
   "outputs": [],
   "source": [
    "def plot_pred(pred, real, start_pos=0, end_pos=-1):\n",
    "    if len(pred) > len(real):\n",
    "      print(\"Error: length of pred is larger than the length of real\")\n",
    "      return\n",
    "    # if end_pos is -1, set to end_pos to the end of the data\n",
    "    end_pos = end_pos if end_pos != -1 else len(real)\n",
    "    # set data in real to plot\n",
    "    real_to_plot = real[start_pos : end_pos]\n",
    "    # set prediction data to plot\n",
    "    pred_to_plot = pred[start_pos : end_pos]\n",
    "    plt.plot(real_to_plot)\n",
    "    plt.plot(pred_to_plot, \"--\")"
   ]
  },
  {
   "cell_type": "code",
   "execution_count": 266,
   "metadata": {},
   "outputs": [
    {
     "data": {
      "image/png": "[encoded data removed]",
      "text/plain": [
       "<Figure size 640x480 with 1 Axes>"
      ]
     },
     "metadata": {},
     "output_type": "display_data"
    }
   ],
   "source": [
    "plot_pred(pred_one, Y_SR_VAL)"
   ]
  },
  {
   "cell_type": "code",
   "execution_count": 252,
   "metadata": {},
   "outputs": [
    {
     "name": "stdout",
     "output_type": "stream",
     "text": [
      "Model: \"sequential_16\"\n",
      "_________________________________________________________________\n",
      " Layer (type)                Output Shape              Param #   \n",
      "=================================================================\n",
      " gru_15 (GRU)                (None, 128)               51840     \n",
      "                                                                 \n",
      " dropout_36 (Dropout)        (None, 128)               0         \n",
      "                                                                 \n",
      " dense_31 (Dense)            (None, 128)               16512     \n",
      "                                                                 \n",
      " dropout_37 (Dropout)        (None, 128)               0         \n",
      "                                                                 \n",
      " dense_32 (Dense)            (None, 1)                 129       \n",
      "                                                                 \n",
      "=================================================================\n",
      "Total params: 68481 (267.50 KB)\n",
      "Trainable params: 68481 (267.50 KB)\n",
      "Non-trainable params: 0 (0.00 Byte)\n",
      "_________________________________________________________________\n"
     ]
    }
   ],
   "source": [
    "model_all = Sequential()\n",
    "# model_all.add(GRU(128, input_shape=(20, 1)))\n",
    "model_all.add(GRU(128, input_shape=(20, 5), return_sequences=False))\n",
    "model_all.add(Dropout(0.25))\n",
    "# model_all.add(GRU(128, return_sequences=False))\n",
    "# model_all.add(Dropout(0.25))\n",
    "model_all.add(Dense(128, activation='relu'))\n",
    "model_all.add(Dropout(0.25))\n",
    "model_all.add(Dense(1, activation='linear'))\n",
    "model_all.compile(loss='mean_squared_error', optimizer='adam')\n",
    "model_all.summary()"
   ]
  },
  {
   "cell_type": "code",
   "execution_count": 253,
   "metadata": {},
   "outputs": [
    {
     "data": {
      "text/plain": [
       "(TensorShape([5796, 20, 5]),\n",
       " TensorShape([5796, 1]),\n",
       " TensorShape([200, 20, 5]),\n",
       " TensorShape([200, 1]),\n",
       " (200, 1))"
      ]
     },
     "execution_count": 253,
     "metadata": {},
     "output_type": "execute_result"
    }
   ],
   "source": [
    "# train model using X_ONE\n",
    "Xtrain_all, ytrain_all, Xval_all, yval_all, _ = get_train_val(X_ALL, Y, Y_SR)\n",
    "# size of train, val data\n",
    "Xtrain_all.shape, ytrain_all.shape, Xval_all.shape, yval_all.shape, Y_SR_VAL.shape"
   ]
  },
  {
   "cell_type": "code",
   "execution_count": 254,
   "metadata": {},
   "outputs": [
    {
     "name": "stdout",
     "output_type": "stream",
     "text": [
      "Epoch 1/30\n",
      "182/182 - 6s - loss: 0.0028 - 6s/epoch - 31ms/step\n",
      "Epoch 2/30\n",
      "182/182 - 3s - loss: 0.0017 - 3s/epoch - 14ms/step\n",
      "Epoch 3/30\n",
      "182/182 - 3s - loss: 0.0012 - 3s/epoch - 14ms/step\n",
      "Epoch 4/30\n",
      "182/182 - 3s - loss: 0.0012 - 3s/epoch - 14ms/step\n",
      "Epoch 5/30\n",
      "182/182 - 3s - loss: 0.0012 - 3s/epoch - 14ms/step\n",
      "Epoch 6/30\n",
      "182/182 - 3s - loss: 0.0010 - 3s/epoch - 14ms/step\n",
      "Epoch 7/30\n",
      "182/182 - 3s - loss: 9.8340e-04 - 3s/epoch - 15ms/step\n",
      "Epoch 8/30\n",
      "182/182 - 3s - loss: 9.7936e-04 - 3s/epoch - 16ms/step\n",
      "Epoch 9/30\n",
      "182/182 - 3s - loss: 9.8100e-04 - 3s/epoch - 16ms/step\n",
      "Epoch 10/30\n",
      "182/182 - 3s - loss: 9.4174e-04 - 3s/epoch - 14ms/step\n",
      "Epoch 11/30\n",
      "182/182 - 3s - loss: 9.5690e-04 - 3s/epoch - 18ms/step\n",
      "Epoch 12/30\n",
      "182/182 - 4s - loss: 9.7614e-04 - 4s/epoch - 20ms/step\n",
      "Epoch 13/30\n",
      "182/182 - 3s - loss: 8.6099e-04 - 3s/epoch - 19ms/step\n",
      "Epoch 14/30\n",
      "182/182 - 3s - loss: 9.0027e-04 - 3s/epoch - 19ms/step\n",
      "Epoch 15/30\n",
      "182/182 - 3s - loss: 9.3840e-04 - 3s/epoch - 16ms/step\n",
      "Epoch 16/30\n",
      "182/182 - 2s - loss: 9.3640e-04 - 2s/epoch - 14ms/step\n",
      "Epoch 17/30\n",
      "182/182 - 3s - loss: 9.0579e-04 - 3s/epoch - 15ms/step\n",
      "Epoch 18/30\n",
      "182/182 - 3s - loss: 8.2128e-04 - 3s/epoch - 14ms/step\n",
      "Epoch 19/30\n",
      "182/182 - 2s - loss: 9.0836e-04 - 2s/epoch - 13ms/step\n",
      "Epoch 20/30\n",
      "182/182 - 2s - loss: 8.6105e-04 - 2s/epoch - 14ms/step\n",
      "Epoch 21/30\n",
      "182/182 - 3s - loss: 8.9619e-04 - 3s/epoch - 16ms/step\n",
      "Epoch 22/30\n",
      "182/182 - 3s - loss: 7.3934e-04 - 3s/epoch - 14ms/step\n",
      "Epoch 23/30\n",
      "182/182 - 2s - loss: 8.6044e-04 - 2s/epoch - 14ms/step\n",
      "Epoch 24/30\n",
      "182/182 - 3s - loss: 7.7793e-04 - 3s/epoch - 18ms/step\n",
      "Epoch 25/30\n",
      "182/182 - 4s - loss: 7.4912e-04 - 4s/epoch - 20ms/step\n",
      "Epoch 26/30\n",
      "182/182 - 3s - loss: 7.6198e-04 - 3s/epoch - 18ms/step\n",
      "Epoch 27/30\n",
      "182/182 - 3s - loss: 8.0145e-04 - 3s/epoch - 16ms/step\n",
      "Epoch 28/30\n",
      "182/182 - 3s - loss: 7.8867e-04 - 3s/epoch - 18ms/step\n",
      "Epoch 29/30\n",
      "182/182 - 3s - loss: 7.3715e-04 - 3s/epoch - 16ms/step\n",
      "Epoch 30/30\n",
      "182/182 - 3s - loss: 7.6762e-04 - 3s/epoch - 16ms/step\n"
     ]
    }
   ],
   "source": [
    "train_model(model_all, Xtrain_all, ytrain_all)"
   ]
  },
  {
   "cell_type": "code",
   "execution_count": 268,
   "metadata": {},
   "outputs": [
    {
     "name": "stdout",
     "output_type": "stream",
     "text": [
      "7/7 [==============================] - 0s 7ms/step\n",
      "RMSE: 3.889\n",
      "\n",
      "Relative Error: 2.52%\n"
     ]
    }
   ],
   "source": [
    "# show RMSE and relative error value on validation data\n",
    "pred_all, RMSE, REL_ERR = get_model_perf(model_all, Xval_all)"
   ]
  },
  {
   "cell_type": "code",
   "execution_count": 271,
   "metadata": {},
   "outputs": [
    {
     "data": {
      "image/png": "[encoded data removed]",
      "text/plain": [
       "<Figure size 640x480 with 1 Axes>"
      ]
     },
     "metadata": {},
     "output_type": "display_data"
    }
   ],
   "source": [
    "plot_pred(pred_all, Y_SR_VAL)"
   ]
  },
  {
   "cell_type": "markdown",
   "metadata": {},
   "source": [
    "#### Observation\n",
    "Compared with the previous prediction using only history price, the prediction using all history features(\"Open\", \"Close\", \"High\", \"Adj Close\", \"Volume\") performs worse."
   ]
  }
 ],
 "metadata": {
  "kernelspec": {
   "display_name": "Python 3",
   "language": "python",
   "name": "python3"
  },
  "language_info": {
   "codemirror_mode": {
    "name": "ipython",
    "version": 3
   },
   "file_extension": ".py",
   "mimetype": "text/x-python",
   "name": "python",
   "nbconvert_exporter": "python",
   "pygments_lexer": "ipython3",
   "version": "3.8.10"
  }
 },
 "nbformat": 4,
 "nbformat_minor": 2
}
